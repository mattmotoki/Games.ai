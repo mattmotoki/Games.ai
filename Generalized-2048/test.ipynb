{
 "cells": [
  {
   "cell_type": "code",
   "execution_count": 25,
   "metadata": {
    "collapsed": false
   },
   "outputs": [
    {
     "name": "stdout",
     "output_type": "stream",
     "text": [
      "[16, 0, 0, 0]\n"
     ]
    }
   ],
   "source": [
    "row = [2,2,4,8]\n",
    "row = [x for x in row if x!=0 ]\n",
    "\n",
    "i=0\n",
    "N = len(row)\n",
    "while i < N-1:\n",
    "    if row[i] == row[i+1]:\n",
    "        row[i] *= 2\n",
    "        del row[i+1]\n",
    "        N-=1\n",
    "    else: i+=1\n",
    "        \n",
    "print(row + [0]*(4-N))"
   ]
  }
 ],
 "metadata": {
  "kernelspec": {
   "display_name": "Python 3",
   "language": "python",
   "name": "python3"
  },
  "language_info": {
   "codemirror_mode": {
    "name": "ipython",
    "version": 3
   },
   "file_extension": ".py",
   "mimetype": "text/x-python",
   "name": "python",
   "nbconvert_exporter": "python",
   "pygments_lexer": "ipython3",
   "version": "3.5.2"
  }
 },
 "nbformat": 4,
 "nbformat_minor": 0
}
