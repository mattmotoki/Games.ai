{
 "cells": [
  {
   "cell_type": "markdown",
   "metadata": {},
   "source": [
    "# Game0\n",
    "Bare bones game.  \n",
    "* variable board dimensions (w,h)\n",
    "* variable winning connection length (n)"
   ]
  },
  {
   "cell_type": "code",
   "execution_count": 87,
   "metadata": {
    "collapsed": false
   },
   "outputs": [],
   "source": [
    "import itertools\n",
    "import numpy as np\n",
    "from IPython.display import clear_output\n",
    "from sys import exit"
   ]
  },
  {
   "cell_type": "markdown",
   "metadata": {},
   "source": [
    "## Utility Functions\n"
   ]
  },
  {
   "cell_type": "code",
   "execution_count": 92,
   "metadata": {
    "collapsed": false
   },
   "outputs": [],
   "source": [
    "# count connections to the left and right of pos\n",
    "def cnct_count(vec, pos):\n",
    "    count, player = 1, vec[pos]\n",
    "    for v in vec[:pos][::-1]:\n",
    "        if v==player: count += 1\n",
    "        else: break\n",
    "    for v in vec[pos+1:]:\n",
    "        if v==player: count += 1\n",
    "        else: break\n",
    "    return count\n",
    "\n",
    "# extract backward diagonal from a nested list\n",
    "def fdiag(board, w, h, shift=0):\n",
    "    if shift==0: return [board[k,k] for k in range(min(h,w))]\n",
    "    elif shift>0: return [board[k,k+shift] for k in range(min(h,w-shift))]\n",
    "    return [board[k-shift,k] for k in range(min(h+shift,w))]       \n",
    "    \n",
    "# extract backward diagonal from a nested list\n",
    "def bdiag(board, w, h, shift=0):\n",
    "    if shift==0: return [board[k,w-k-1] for k in range(min(h,w))]\n",
    "    if shift>0: return [board[k,w-(k+shift)-1] for k in range(min(h,w-shift))]\n",
    "    return [board[k-shift,w-k-1] for k in range(min(h+shift,w))]   \n",
    "\n",
    "# check if a value is an integer\n",
    "def is_int(value):\n",
    "    try: int(value);   return True\n",
    "    except: return False"
   ]
  },
  {
   "cell_type": "code",
   "execution_count": 136,
   "metadata": {
    "collapsed": false
   },
   "outputs": [],
   "source": [
    "class game0(object):\n",
    "    def __init__(self, w, h, n, init_board=None):       \n",
    "        self.w, self.h, self.n = w, h, n\n",
    "        self.board = np.array([[-1]*w]*h)\n",
    "        self.player = 0\n",
    "        self.feasible_moves = list(range(w))\n",
    "        self.col_count = [0]*w\n",
    "        self.status = 'active'\n",
    "               \n",
    "    # display the status of the board\n",
    "    def print_board(self):\n",
    "        clear_output() # comment out for debugging\n",
    "        for k in range(self.h):\n",
    "            row = ' '.join(str(r) for r in self.board[k,:])\n",
    "            row = row.replace('-1','.').replace('1','x')\n",
    "            print('| ' + row + ' |')\n",
    "        print('-'*(3+2*self.w))\n",
    "        print('  ' + ' '.join(str(col) for col in range(self.w)))        \n",
    "\n",
    "    # get user's input\n",
    "    def col_input(self):\n",
    "            \n",
    "        # ask for and validate input\n",
    "        while True:\n",
    "            col = input('Player ' + str(self.player) + ': Enter the column to place your piece ' + \n",
    "                        '(' + str(self.player).replace('1','+') + ') ' )\n",
    "            if col.lower()=='q': print('Thanks for playing!');   exit(0)\n",
    "            if col=='`': col = 0 # define an alias for 0\n",
    "\n",
    "            # check for valid input\n",
    "            if is_int(col): \n",
    "                col = int(col)\n",
    "                if col>=0 and col<self.w and col in self.feasible_moves: break\n",
    "        return col\n",
    "        \n",
    "    # check intersecting row, col, diagonals for connect-n\n",
    "    def check_col(self, row, col):\n",
    "        return cnct_count(self.board[:, col], row) >= self.n\n",
    "    \n",
    "    def check_row(self, row, col):\n",
    "        return cnct_count(self.board[row, :], col) >= self.n\n",
    "    \n",
    "    def check_fdiag(self, row, col):\n",
    "        forward_diag = fdiag(self.board, self.w, self.h, col-row)\n",
    "        return cnct_count(forward_diag, min(row, col)) >= self.n\n",
    "        \n",
    "    def check_bdiag(self, row, col):\n",
    "        col = self.w-1-col\n",
    "        backward_diag = bdiag(self.board, self.w, self.h, col-row)\n",
    "        return cnct_count(backward_diag, min(row, col)) >= self.n\n",
    "    \n",
    "    # update game        \n",
    "    def update_game(self, col):\n",
    "        \n",
    "        # update col_count, board, player and feasible moves\n",
    "        self.col_count[col] += 1\n",
    "        row = self.h-self.col_count[col]\n",
    "        self.board[row, col] = self.player       \n",
    "        self.player = 1*(self.player==0)\n",
    "        if self.col_count[col]==self.n: self.feasible_moves.remove(col)\n",
    "            \n",
    "        # check if game is won\n",
    "        if (self.check_col(row, col) or self.check_row(row, col) or\n",
    "            self.check_fdiag(row, col) or self.check_bdiag(row, col)):\n",
    "            self.status = 'won';   return\n",
    "        \n",
    "        # check for draws\n",
    "        if not self.feasible_moves: self.status = 'draw'\n",
    "\n",
    "    # two-player game\n",
    "    def play_game(self):\n",
    "        while True:\n",
    "            self.print_board()\n",
    "            col = self.col_input()\n",
    "            self.update_game(col)\n",
    "            if self.status!='active':\n",
    "                self.print_board()\n",
    "                if self.status=='won': print('Player ' + str(1-self.player) + ' won!')\n",
    "                else: print('Game is a draw.')\n",
    "                return            "
   ]
  },
  {
   "cell_type": "code",
   "execution_count": 137,
   "metadata": {
    "collapsed": false
   },
   "outputs": [
    {
     "name": "stdout",
     "output_type": "stream",
     "text": [
      "| 0 x . |\n",
      "| x 0 . |\n",
      "| 0 x 0 |\n",
      "---------\n",
      "  0 1 2\n",
      "Player 0 won!\n"
     ]
    }
   ],
   "source": [
    "g = game0(w=3,h=3,n=3)\n",
    "g.play_game()"
   ]
  },
  {
   "cell_type": "markdown",
   "metadata": {},
   "source": [
    "# game1\n",
    "* add special characters\n",
    "* takes intital board configuration as input\n",
    "* update print function for special characters"
   ]
  },
  {
   "cell_type": "code",
   "execution_count": 133,
   "metadata": {
    "collapsed": true
   },
   "outputs": [],
   "source": [
    "class game1(game0):\n",
    "    def __init__(self, w, h, n, init_board=None):\n",
    "        # set up initial board\n",
    "        if init_board is not None: \n",
    "            self.board = init_board\n",
    "            self.w, self.h = init_board.shape\n",
    "        else: self.board = np.zeros((self.h, self.w), dtype=np.int)-1\n",
    "        self.col_capacity = np.sum(self.board>-2, axis=0)        \n",
    "        \n",
    "        # add game0 attributes\n",
    "        game0.__init__(self, self.w, self.h, n)\n",
    "               \n",
    "    # display the status of the board\n",
    "    def print_board(self):\n",
    "        clear_output() # comment out for debugging\n",
    "        for k in range(self.h):\n",
    "            row = ' '.join(str(r) for r in self.board[k,:])\n",
    "            row = row.replace('-3', '?').replace('-2', '#').replace('-1','.').replace('1','x')\n",
    "            print('| ' + row + ' |')\n",
    "        print('-'*(3+2*self.w))\n",
    "        print('  ' + ' '.join(str(col) for col in range(self.w)))        \n",
    "        \n",
    "\n",
    "    # update game        \n",
    "    def update_game(self, col):\n",
    "        \n",
    "        # update col_count and row\n",
    "        self.col_count[col] += 1\n",
    "        row = self.h-self.col_count[col]\n",
    "        while self.board[row, col]<-1: row -= 1 # skip special pieces\n",
    "\n",
    "        #update board, player and feasible moves\n",
    "        self.board[row, col] = self.player       \n",
    "        self.player = 1*(self.player==0)\n",
    "        if self.col_count[col] == self.col_capacity[col]: self.feasible_moves.remove(col)\n",
    "            \n",
    "        # check if game is over\n",
    "        if (game0.check_col(self, row, col) or game0.check_row(self, row, col) or\n",
    "            game0.check_fdiag(self, row, col) or game0.check_bdiag(self, row, col)):\n",
    "            self.status = 'won';   return \n",
    "            \n",
    "        # check for draws\n",
    "        if not self.feasible_moves: self.status = 'draw'\n"
   ]
  },
  {
   "cell_type": "code",
   "execution_count": 132,
   "metadata": {
    "collapsed": false,
    "scrolled": false
   },
   "outputs": [
    {
     "name": "stdout",
     "output_type": "stream",
     "text": [
      "[[-1 -1 -1 -1]\n",
      " [-2 -1 -1 -1]\n",
      " [-1 -1 -1 -1]\n",
      " [-1 -1 -1 -1]]\n",
      "(4, 4)\n"
     ]
    }
   ],
   "source": [
    "init_board = np.zeros((4, 4), dtype=np.int)-1\n",
    "init_board[1,0] = -2\n",
    "\n",
    "g = game1(w=3,h=3,n=3, init_board=init_board)\n",
    "#g.play_game()"
   ]
  },
  {
   "cell_type": "markdown",
   "metadata": {},
   "source": [
    "# Extra Stuff"
   ]
  },
  {
   "cell_type": "code",
   "execution_count": null,
   "metadata": {
    "collapsed": true
   },
   "outputs": [],
   "source": [
    "# check if a value is being used as a special piece\n",
    "special_pieces = ['@','.', '#', \"?\", '|']\n",
    "def is_special(v): return v in special_pieces\n",
    "\n",
    "\n",
    "        \"\"\"\n",
    "        # ask for player's info\n",
    "        self.name = input('Please enter your name: ')\n",
    "        self.pc = input('Please enter the game piece that you would like to use: ')\n",
    "        while is_special(self.pc):\n",
    "            clear_output()\n",
    "            print('Sorry. That piece is already in use.')\n",
    "            self.pc = input('Please enter any piece other than: ' + str(special_pieces).strip(\"[]\"))        \n",
    "        \"\"\""
   ]
  }
 ],
 "metadata": {
  "kernelspec": {
   "display_name": "Python 3",
   "language": "python",
   "name": "python3"
  },
  "language_info": {
   "codemirror_mode": {
    "name": "ipython",
    "version": 3
   },
   "file_extension": ".py",
   "mimetype": "text/x-python",
   "name": "python",
   "nbconvert_exporter": "python",
   "pygments_lexer": "ipython3",
   "version": "3.5.2"
  }
 },
 "nbformat": 4,
 "nbformat_minor": 0
}
