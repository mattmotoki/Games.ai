{
 "cells": [
  {
   "cell_type": "code",
   "execution_count": 1,
   "metadata": {
    "collapsed": false
   },
   "outputs": [],
   "source": [
    "from random import randint\n",
    "import numpy as np\n",
    "import string\n",
    "from IPython.display import clear_output\n",
    "from sys import exit"
   ]
  },
  {
   "cell_type": "code",
   "execution_count": 33,
   "metadata": {
    "collapsed": false
   },
   "outputs": [
    {
     "name": "stdout",
     "output_type": "stream",
     "text": [
      "<generator object slot.print_neighbors.<locals>.<genexpr> at 0x000001B854235620>\n"
     ]
    }
   ],
   "source": [
    "class slot:\n",
    "    def __init__(self, row, col):\n",
    "        # initialize all neighbors as empty\n",
    "        for n in range(8): setattr(self, 'n' + str(n), -1)\n",
    "            \n",
    "        # check the edges\n",
    "        if   row==0: self.n5, self.n4, self.n3 = None, None, None\n",
    "        elif row==5: self.n0, self.n1, self.n7 = None, None, None \n",
    "        if   col==0: self.n7, self.n6, self.n5 = None, None, None \n",
    "        elif col==6: self.n1, self.n2, self.n3 = None, None, None \n",
    "    \n",
    "    def print_neighbors(self):\n",
    "        for k in range(8):\n",
    "            print(str(k) + ': ' + str(getattr(s, 'n'+str(k))))\n",
    "s = slot(0,1)\n",
    "s.print_neighbors()\n"
   ]
  },
  {
   "cell_type": "code",
   "execution_count": 29,
   "metadata": {
    "collapsed": false
   },
   "outputs": [
    {
     "name": "stdout",
     "output_type": "stream",
     "text": [
      "0\n"
     ]
    }
   ],
   "source": [
    "row =0\n",
    "if row==0: print(0)\n",
    "elif row==0: print(1)\n"
   ]
  },
  {
   "cell_type": "markdown",
   "metadata": {},
   "source": [
    "## Define the Connect 4 game\n"
   ]
  },
  {
   "cell_type": "code",
   "execution_count": 2,
   "metadata": {
    "collapsed": false
   },
   "outputs": [],
   "source": [
    "class game:\n",
    "    #------------------\n",
    "    # attributes\n",
    "    #------------------\n",
    "    def __init__(self, w, h):\n",
    "        self.board = np.zeros((h,w), dtype=np.int)-1  # board\n",
    "        self.player = 0                               # current player's turn\n",
    "        self.col_count = np.zeros((w,), dtype=np.int) # number of pieces in each column\n",
    "        self.row_count = np.zeros((h,), dtype=np.int) # number of pieces in each row\n",
    "        \n",
    "    #------------------\n",
    "    # methods\n",
    "    #------------------\n",
    "    # display the status of the board\n",
    "    def print_board(self):\n",
    "        print(\"Player \" + str(self.player+1) + \"'s turn:\")\n",
    "        for k in range(h):\n",
    "            row = self.board[k,:]\n",
    "            row = ' '.join(str(e) for e in row)\n",
    "            row = row.replace('-1','.').replace('1','+')\n",
    "            print('| ' + row + ' |')\n",
    "\n",
    "        print('-'*17)\n",
    "        print('  ' + ' '.join(str(e) for e in range(w)))        \n",
    "        \n",
    "    #------------------\n",
    "    # enter a piece into the board\n",
    "    def enter_col(self):\n",
    "        \n",
    "        # validate input\n",
    "        def parse_input():               \n",
    "            # check to see that the input in an integer\n",
    "            def is_int(value):\n",
    "                try: \n",
    "                    int(value)\n",
    "                    return True\n",
    "                except: \n",
    "                    clear_output()\n",
    "                    print('Input not integral.\\nPlease enter an integer between 0 and ' + str(w-1))\n",
    "                    return False\n",
    "\n",
    "            print('')\n",
    "            while True:\n",
    "                self.print_board()\n",
    "                \n",
    "                # ask for input\n",
    "                col = input('Enter the column to place your piece: ')\n",
    "                if col.lower()=='q': print('Thanks for playing!');   exit(0)\n",
    "                    \n",
    "                # check if input is an integer\n",
    "                if is_int(col):\n",
    "                    col = int(col)\n",
    "                    \n",
    "                    # check to see that input is between 0 and w\n",
    "                    if col in range(w):\n",
    "                    \n",
    "                        # check to see column is not full\n",
    "                        if self.col_count[col]<w: return col\n",
    "                        else: \n",
    "                            clear_output()\n",
    "                            print('Column ' + str(col) + ' is full.  Please enter a different column.')\n",
    "                        \n",
    "                    else:\n",
    "                        clear_output()\n",
    "                        print('Input not an integer between 0 and ' + str(w-1) + \n",
    "                              '.\\nPlease enter an integer between 0 and ' + str(w-1))\n",
    "\n",
    "        # update the board\n",
    "        col = parse_input()\n",
    "        row = np.where(self.board[:,col]==-1)[0][-1]\n",
    "        self.board[row, col] = self.player\n",
    "\n",
    "        # update counts\n",
    "        self.col_count[col] += 1\n",
    "        self.row_count[h-row-1] += 1\n",
    "\n",
    "        # update the player\n",
    "        if self.player==0: self.player = 1\n",
    "        else: self.player = 0\n",
    "        \n",
    "\n",
    "    #------------------\n",
    "    # check to see if the game has been won\n",
    "    def is_won(self):\n",
    "        if self.player==0: player = 1\n",
    "        else: player = 0\n",
    "        \n",
    "        def check7(vec):\n",
    "            if vec[3]!=player: return False\n",
    "            if vec[2]!=player: return all(vec[4:]==player) \n",
    "            if vec[1]!=player: return all(vec[4:6]==player)\n",
    "            return vec[0]==player or vec[4]==player\n",
    "                        \n",
    "        def check6(vec):\n",
    "            if any(vec[2:4]!=player): return False\n",
    "            if vec[1]!=player: return all(vec[4:6]==player)\n",
    "            return vec[0]==player or vec[4]==player\n",
    "                    \n",
    "        def check5(vec):\n",
    "            if any(vec[1:4]!=player): return False\n",
    "            return vec[0]==player or vec[4]==player\n",
    "\n",
    "        def check4(vec): return all(vec==player)\n",
    "                    \n",
    "                    \n",
    "        def player_won():\n",
    "            # check rows with at least 4 pieces\n",
    "            rows = np.where(self.row_count[::-1]>=4)[0].tolist()\n",
    "            if rows: \n",
    "                for i in rows: \n",
    "                    if check7(self.board[i,:]): return True\n",
    "\n",
    "            # check cols with at least 4 pieces\n",
    "            cols = np.where(self.col_count>=4)[0].tolist()\n",
    "            if cols: \n",
    "                for j in cols: \n",
    "                    if check6(self.board[:,j]): return True\n",
    "                \n",
    "            # check main diagonals\n",
    "            if check6(np.diag(self.board, k=1)): return True\n",
    "            if check6(np.diag(self.board, k=0)): return True\n",
    "            \n",
    "            # check 1st sub diagonals\n",
    "            if check5(np.diag(self.board, k= 2)): return True\n",
    "            if check5(np.diag(self.board, k=-1)): return True\n",
    "            \n",
    "            # check 2nd sub diagonals\n",
    "            if check4(np.diag(self.board, k= 3)): return True\n",
    "            if check4(np.diag(self.board, k=-2)): return True            \n",
    "                        \n",
    "            # flip board and check the opposite diagonals\n",
    "            oboard = np.fliplr(self.board.T)\n",
    "             \n",
    "            # check main diagonals\n",
    "            if check6(np.diag(oboard, k=1)): return True\n",
    "            if check6(np.diag(oboard, k=0)): return True\n",
    "            \n",
    "            # check 1st sub diagonals\n",
    "            if check5(np.diag(oboard, k= 2)): return True\n",
    "            if check5(np.diag(oboard, k=-1)): return True\n",
    "            \n",
    "            # check 2nd sub diagonals\n",
    "            if check4(np.diag(oboard, k= 3)): return True\n",
    "            if check4(np.diag(oboard, k=-2)): return True \n",
    "            \n",
    "            return False\n",
    "\n",
    "        if player_won(): \n",
    "            clear_output();   \n",
    "            self.print_board()\n",
    "            print('Player ' + str(player+1) + ' won') \n",
    "            return True\n",
    "        return False\n",
    "\n",
    "    #------------------\n",
    "    def play_game(self):\n",
    "        while True:\n",
    "            clear_output()\n",
    "            self.enter_col()\n",
    "            if self.is_won(): return"
   ]
  },
  {
   "cell_type": "markdown",
   "metadata": {},
   "source": [
    "## Test the game to see that it works in 2 player mode"
   ]
  },
  {
   "cell_type": "code",
   "execution_count": 3,
   "metadata": {
    "collapsed": false
   },
   "outputs": [
    {
     "name": "stdout",
     "output_type": "stream",
     "text": [
      "Player 1's turn:\n",
      "| . . . . . . . |\n",
      "| . . . . . . . |\n",
      "| . . . + . . . |\n",
      "| . 0 0 + + . . |\n",
      "| . + 0 0 0 + . |\n",
      "| . 0 + 0 + 0 + |\n",
      "-----------------\n",
      "  0 1 2 3 4 5 6\n",
      "Player 2 won\n"
     ]
    }
   ],
   "source": [
    "w, h = 7, 6 # not variable yet\n",
    "g = game(w,h)\n",
    "g.play_game()"
   ]
  },
  {
   "cell_type": "code",
   "execution_count": null,
   "metadata": {
    "collapsed": true
   },
   "outputs": [],
   "source": []
  }
 ],
 "metadata": {
  "kernelspec": {
   "display_name": "Python [Root]",
   "language": "python",
   "name": "Python [Root]"
  },
  "language_info": {
   "codemirror_mode": {
    "name": "ipython",
    "version": 3
   },
   "file_extension": ".py",
   "mimetype": "text/x-python",
   "name": "python",
   "nbconvert_exporter": "python",
   "pygments_lexer": "ipython3",
   "version": "3.5.2"
  }
 },
 "nbformat": 4,
 "nbformat_minor": 0
}
