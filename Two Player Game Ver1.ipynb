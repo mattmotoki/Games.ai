{
 "cells": [
  {
   "cell_type": "markdown",
   "metadata": {},
   "source": [
    "# Add Wildcard and Null Block\n",
    "Add special characters to the initial board configuration."
   ]
  },
  {
   "cell_type": "code",
   "execution_count": 1,
   "metadata": {
    "collapsed": false
   },
   "outputs": [],
   "source": [
    "import itertools\n",
    "import numpy as np\n",
    "from IPython.display import clear_output\n",
    "from sys import exit"
   ]
  },
  {
   "cell_type": "markdown",
   "metadata": {},
   "source": [
    "## Utility Function\n"
   ]
  },
  {
   "cell_type": "code",
   "execution_count": 2,
   "metadata": {
    "collapsed": false
   },
   "outputs": [],
   "source": [
    "# check if a value is an integer\n",
    "def is_int(value):\n",
    "    try: int(value);   return True\n",
    "    except: return False"
   ]
  },
  {
   "cell_type": "code",
   "execution_count": 3,
   "metadata": {
    "collapsed": false
   },
   "outputs": [],
   "source": [
    "class game(object):\n",
    "    def __init__(self, w, h, n, init_board=None):\n",
    "        self.player = 0\n",
    "        self.status = 'active'\n",
    "\n",
    "        # set up initial board\n",
    "        if init_board is not None: \n",
    "            self.board = init_board\n",
    "            w, h = init_board.shape\n",
    "        else: self.board = np.array([[-1]*w]*h)\n",
    "        self.w, self.h, self.n = w, h, n\n",
    "        self.col_count = [next((h-k-1 for k in range(h)[::-1] if col[k] >-2), h) for col in self.board.T]\n",
    "        self.feasible_moves = set(k for k in range(w) if self.col_count[k]<h)\n",
    "\n",
    "        \n",
    "    # display the status of the board\n",
    "    def print_board(self):\n",
    "        clear_output() # comment out for debugging\n",
    "        for k in range(self.h):\n",
    "            row = ' '.join(str(r) for r in self.board[k,:])\n",
    "            row = row.replace('-3', '?').replace('-2', '#').replace('-1','.').replace('1','x')\n",
    "            print('| ' + row + ' |')\n",
    "        print('-'*(3+2*self.w))\n",
    "        print('  ' + ' '.join(str(col) for col in range(self.w)))        \n",
    "\n",
    "    # get user's input\n",
    "    def col_input(self):\n",
    "        # ask for and validate input\n",
    "        while True:\n",
    "            col = input('Player ' + str(self.player) + ': Enter the column to place your piece ' + \n",
    "                        '(' + str(self.player).replace('1','x') + ') ' )\n",
    "            if col.lower()=='q': print('Thanks for playing!');   exit(0)\n",
    "            if col=='`': col = 0 # define an alias for 0\n",
    "\n",
    "            # check for valid input\n",
    "            if is_int(col): \n",
    "                col = int(col)\n",
    "                if col>=0 and col<self.w and col in self.feasible_moves: break\n",
    "        return col\n",
    "\n",
    "    # count connections to the left and right of pos\n",
    "    def cnct_gt_n(self, vec, pos): \n",
    "        count, player = 1, vec[pos]\n",
    "        \n",
    "        # check if at least n in length\n",
    "        if sum(np.logical_or(vec==player, vec==-3)) < self.n: return False\n",
    "\n",
    "        for v in vec[:pos][::-1]:\n",
    "            if v==player or v==-3: count += 1\n",
    "            else: break\n",
    "        for v in vec[pos+1:]:\n",
    "            if v==player or v==-3: count += 1\n",
    "            else: break\n",
    "        return count >= self.n\n",
    "\n",
    "    # extract backward diagonal from a nested list\n",
    "    def bdiag(self, board, shift=0):\n",
    "        if shift==0: return [board[k, self.w-k-1] for k in range(min(self.h, self.w))]\n",
    "        if shift>0: return [board[k, self.w-(k+shift)-1] for k in range(min(self.h, self.w-shift))]\n",
    "        return [board[k-shift, self.w-k-1] for k in range(min(self.h+shift, self.w))]   \n",
    "\n",
    "    # check intersecting row, col, diagonals for connect-n\n",
    "    def connect_n_check(self, row, col):\n",
    "        forward_diag = np.diag(self.board, col-row)\n",
    "        backward_diag = self.bdiag(self.board, self.w-1-col-row)\n",
    "        return (self.cnct_gt_n(self.board[:, col], row) or             # col\n",
    "                self.cnct_gt_n(self.board[row, :], col) or             # row\n",
    "                self.cnct_gt_n(forward_diag, min(row, col)) or         # fdiag\n",
    "                self.cnct_gt_n(backward_diag, min(row, self.w-1-col))) # bdiag\n",
    "\n",
    "    # update game        \n",
    "    def update_game(self, col):\n",
    "        # update col_count\n",
    "        self.col_count[col] += 1\n",
    "        \n",
    "        # skip special pieces\n",
    "        row = self.h-self.col_count[col]\n",
    "        while self.board[row, col]<-1: \n",
    "            row -= 1 \n",
    "            self.col_count[col] += 1\n",
    "            \n",
    "        # update board, player and feasible moves\n",
    "        self.board[row, col] = self.player # assign move to player\n",
    "        self.player = 1*(self.player==0)   # switch players\n",
    "        if self.col_count[col]==self.h: self.feasible_moves.remove(col)\n",
    "                    \n",
    "        # update status\n",
    "        if self.connect_n_check(row, col): self.status = 'won';   return\n",
    "        if not self.feasible_moves: self.status = 'draw'\n",
    "        \n",
    "    # two-player game\n",
    "    def play_game(self):\n",
    "        while True:\n",
    "            self.print_board()\n",
    "            col = self.col_input()\n",
    "            self.update_game(col)\n",
    "            if self.status!='active':\n",
    "                self.print_board()\n",
    "                if self.status=='won': print('Player ' + str(1-self.player) + ' won!')\n",
    "                else: print('Game is a draw.')\n",
    "                return            "
   ]
  },
  {
   "cell_type": "code",
   "execution_count": 4,
   "metadata": {
    "collapsed": false
   },
   "outputs": [
    {
     "name": "stdout",
     "output_type": "stream",
     "text": [
      "| 0 x ? . |\n",
      "| 0 0 ? x |\n",
      "| x x ? 0 |\n",
      "| x 0 ? 0 |\n",
      "-----------\n",
      "  0 1 2 3\n",
      "Player 0 won!\n"
     ]
    }
   ],
   "source": [
    "w, h, n = 4, 4, 4\n",
    "init_board = np.array([[-1]*w]*h)\n",
    "init_board[:,2]= -3\n",
    "\n",
    "g = game(w, h, n, init_board)\n",
    "g.play_game()"
   ]
  }
 ],
 "metadata": {
  "kernelspec": {
   "display_name": "Python 3",
   "language": "python",
   "name": "python3"
  },
  "language_info": {
   "codemirror_mode": {
    "name": "ipython",
    "version": 3
   },
   "file_extension": ".py",
   "mimetype": "text/x-python",
   "name": "python",
   "nbconvert_exporter": "python",
   "pygments_lexer": "ipython3",
   "version": "3.5.2"
  }
 },
 "nbformat": 4,
 "nbformat_minor": 0
}
